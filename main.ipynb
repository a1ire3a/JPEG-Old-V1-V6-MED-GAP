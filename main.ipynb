{
 "cells": [
  {
   "cell_type": "code",
   "execution_count": null,
   "id": "363b8e4c",
   "metadata": {},
   "outputs": [],
   "source": [
    "#!pip install prettytable"
   ]
  },
  {
   "cell_type": "code",
   "execution_count": 1,
   "id": "902270a9",
   "metadata": {},
   "outputs": [],
   "source": [
    "import cv2\n",
    "import os\n",
    "import numpy as np\n",
    "from prettytable import PrettyTable"
   ]
  },
  {
   "cell_type": "code",
   "execution_count": 2,
   "id": "c378a335",
   "metadata": {},
   "outputs": [],
   "source": [
    "def load_images_from_folder(folder):\n",
    "    '''loads the data for a  given directory '''\n",
    "    images ={} \n",
    "    for filename in os.listdir(folder):\n",
    "        img = cv2.imread(os.path.join(folder,filename),0)\n",
    "        if img is not None:\n",
    "            images[filename]=img\n",
    "            \n",
    "    return images\n"
   ]
  },
  {
   "cell_type": "code",
   "execution_count": 3,
   "id": "9713ed2c",
   "metadata": {},
   "outputs": [],
   "source": [
    "def MED(image):\n",
    "    ''' for a given  image apply the   MED(Median Edge Detector) predictor ''' \n",
    "    raise NotImplemented\n"
   ]
  },
  {
   "cell_type": "code",
   "execution_count": 4,
   "id": "82b6c0b3",
   "metadata": {},
   "outputs": [],
   "source": [
    "def GAP(image):\n",
    "    ''' for a given  image apply the   GAP(Gradient Adjusted Predictor) predictor ''' \n",
    "    raise NotImplemented"
   ]
  },
  {
   "cell_type": "code",
   "execution_count": 5,
   "id": "6efcd3c8",
   "metadata": {},
   "outputs": [],
   "source": [
    "\n",
    "def JPEG_Old_v_1(image):\n",
    "    ''' for a given  image apply the   JPEG_Old_v_1) predictor ''' \n",
    "    raise NotImplemented  "
   ]
  },
  {
   "cell_type": "code",
   "execution_count": 6,
   "id": "a6bdecdc",
   "metadata": {},
   "outputs": [],
   "source": [
    "\n",
    "def JPEG_Old_v_6(image):\n",
    "    ''' for a given  image apply the JPEG_Old_v_6 predictor ''' \n",
    "    raise NotImplemented  "
   ]
  },
  {
   "cell_type": "code",
   "execution_count": 7,
   "id": "978daa44",
   "metadata": {},
   "outputs": [],
   "source": [
    "def Calc_Errore (image1 , image2):\n",
    "    ''' calculates the difference between image 1 and image 2 => image1 - image 2 ''' \n",
    "    if (shape1 := image1.shape) != (shape2 := image2.shape):\n",
    "        raise Exception(f\"domension do not match image 1 shape = {shape1}  \\n image2 shape = {shape2}\") \n",
    "    return np.mean(image1-image2)"
   ]
  },
  {
   "cell_type": "code",
   "execution_count": 8,
   "id": "d4bbd0fe",
   "metadata": {},
   "outputs": [],
   "source": [
    "def print_results(path ):\n",
    "    '''for a directory applies 4 predictor and calculates the diffs '''\n",
    "    files=load_images_from_folder(path)\n",
    "    t = PrettyTable(['file_name',\"MED\" ,\"GAP\",\"JPEG_Old_v_1\",\"JPEG_Old_v_6\"])\n",
    "    fucntions=[MED ,GAP ,JPEG_Old_v_1 ,JPEG_Old_v_6 ]\n",
    "    for filename,image in files.items():\n",
    "        diffs=[]\n",
    "        diffs.append(filename)\n",
    "        for func in fucntions:\n",
    "            tmp=func(image)\n",
    "            tmp=Calc_Errore(image,tmp)\n",
    "            diffs.append(tmp)\n",
    "        t.add_row(diffs)\n",
    "\n",
    "    return t "
   ]
  },
  {
   "cell_type": "code",
   "execution_count": null,
   "id": "fe14ffe2",
   "metadata": {},
   "outputs": [],
   "source": [
    "diff=print_results(r'Disorted_images/')\n",
    "print (diff)"
   ]
  }
 ],
 "metadata": {
  "kernelspec": {
   "display_name": "Python 3",
   "language": "python",
   "name": "python3"
  },
  "language_info": {
   "codemirror_mode": {
    "name": "ipython",
    "version": 3
   },
   "file_extension": ".py",
   "mimetype": "text/x-python",
   "name": "python",
   "nbconvert_exporter": "python",
   "pygments_lexer": "ipython3",
   "version": "3.8.8"
  }
 },
 "nbformat": 4,
 "nbformat_minor": 5
}
