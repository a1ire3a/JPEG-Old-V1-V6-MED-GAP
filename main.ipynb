{
  "cells": [
    {
      "cell_type": "code",
      "execution_count": null,
      "id": "363b8e4c",
      "metadata": {
        "id": "363b8e4c"
      },
      "outputs": [],
      "source": [
        "#!pip install prettytable"
      ]
    },
    {
      "cell_type": "code",
      "source": [
        "from google.colab import drive\n",
        "drive.mount('/content/drive')"
      ],
      "metadata": {
        "colab": {
          "base_uri": "https://localhost:8080/"
        },
        "id": "e_6CC2NR-yQc",
        "outputId": "5bd3e07c-a94e-4ab2-ad42-b8ba90a40b97"
      },
      "id": "e_6CC2NR-yQc",
      "execution_count": 7,
      "outputs": [
        {
          "output_type": "stream",
          "name": "stdout",
          "text": [
            "Mounted at /content/drive\n"
          ]
        }
      ]
    },
    {
      "cell_type": "code",
      "execution_count": 8,
      "id": "902270a9",
      "metadata": {
        "id": "902270a9"
      },
      "outputs": [],
      "source": [
        "import cv2\n",
        "import os\n",
        "import numpy as np\n",
        "from prettytable import PrettyTable"
      ]
    },
    {
      "cell_type": "code",
      "execution_count": 9,
      "id": "c378a335",
      "metadata": {
        "id": "c378a335"
      },
      "outputs": [],
      "source": [
        "def load_images_from_folder(folder):\n",
        "    '''loads the data for a  given directory '''\n",
        "    images ={} \n",
        "    for filename in os.listdir(folder):\n",
        "        img = cv2.imread(os.path.join(folder,filename),0)\n",
        "        if img is not None:\n",
        "            images[filename]=img\n",
        "            \n",
        "    return images\n"
      ]
    },
    {
      "cell_type": "code",
      "execution_count": 13,
      "id": "9713ed2c",
      "metadata": {
        "id": "9713ed2c"
      },
      "outputs": [],
      "source": [
        "def MED(image):\n",
        "    ''' for a given  image apply the   MED(Median Edge Detector) predictor '''\n",
        "    a, b = image.shape\n",
        "    temp = np.zeros((a,b))\n",
        "    temp[0,:] = image[0,:]\n",
        "    temp[:,b-1] = image[:,b-1]\n",
        "    for i in range(1,a):\n",
        "        for j in range(1,b-1):\n",
        "            w = image[i,j-1]\n",
        "            nw = image[i-1,j-1]\n",
        "            n = image[i-1, j]\n",
        "            ne = image[i-1,j+1]\n",
        "            max = np.maximum(w,n)\n",
        "            min = np.minimum(w,n)\n",
        "\n",
        "            if nw >= max:\n",
        "                temp[i,j] = min\n",
        "            elif nw <= min:\n",
        "                temp[i,j] = max\n",
        "            else:\n",
        "                temp[i,j] = w+n-nw\n",
        "    return temp"
      ]
    },
    {
      "cell_type": "code",
      "execution_count": 14,
      "id": "82b6c0b3",
      "metadata": {
        "id": "82b6c0b3"
      },
      "outputs": [],
      "source": [
        "def GAP(image):\n",
        "    ''' for a given  image apply the   GAP(Gradient Adjusted Predictor) predictor ''' \n",
        "    a, b = image.shape\n",
        "    temp = np.zeros((a,b))\n",
        "    temp[0:2,:] = image[0:2,:]\n",
        "    temp[:,b-2:b] = image[:,b-2:b]\n",
        "    for i in range (2,a):\n",
        "        for j in range (2,b-2):\n",
        "            w = image[i,j-1]\n",
        "            ww = image[i,j-2]\n",
        "            n = image[i-1,j]\n",
        "            nw = image[i-1,j-1]\n",
        "            ne = image[i-1,j+1]\n",
        "            nn = image[i-2,j]\n",
        "            nne = image[i-2,j+2]\n",
        "\n",
        "            dh = np.abs(w - ww) + np.abs(n - nw) + np.abs(n - ne)\n",
        "            dv = np.abs(w - nw) + np.abs(n - nn) + np.abs(ne - nne)\n",
        "            d = dv - dh\n",
        "            if (d>80):\n",
        "                temp[i,j] = w\n",
        "            elif (d<-80):\n",
        "                temp[i,j] = n\n",
        "            else:\n",
        "                temp[i,j] = (w+n)/2 + (ne-nw)/4\n",
        "                if(d>32):\n",
        "                    temp[i,j] = (temp[i,j] + w)/2\n",
        "                elif(d>8):\n",
        "                    temp[i,j] = (3 * temp[i,j] + w)/4\n",
        "                elif(d<-32):\n",
        "                    temp[i,j] = (temp[i,j] + n)/2\n",
        "                elif(d<-8):\n",
        "                    temp[i,j] = (3 * temp[i,j] + n)/4\n",
        "    return temp"
      ]
    },
    {
      "cell_type": "code",
      "execution_count": 5,
      "id": "6efcd3c8",
      "metadata": {
        "id": "6efcd3c8"
      },
      "outputs": [],
      "source": [
        "def JPEG_Old_v_1(image):\n",
        "    ''' for a given  image apply the   JPEG_Old_v_1) predictor ''' \n",
        "    a, b = image.shape\n",
        "    temp = np.zeros((a,b))\n",
        "    temp[0,:] = image[0,:]\n",
        "    for n in range(1,a):\n",
        "        temp[n,:] = image[n-1,:]\n",
        "    return temp  "
      ]
    },
    {
      "cell_type": "code",
      "execution_count": 4,
      "id": "a6bdecdc",
      "metadata": {
        "id": "a6bdecdc"
      },
      "outputs": [],
      "source": [
        "def JPEG_Old_v_6(image):\n",
        "    ''' for a given  image apply the JPEG_Old_v_6 predictor ''' \n",
        "    a, b = image.shape\n",
        "    temp = np.zeros((a,b))\n",
        "    temp[0,:] = image[0,:]\n",
        "    temp[:,0] = image[:,0]\n",
        "    for i in range(1,a):\n",
        "        for j in range(1,b):\n",
        "            temp[i,j] = image[i-1,j] + (image[i,j-1] - image[i-1,j-1]) / 2\n",
        "    return temp  "
      ]
    },
    {
      "cell_type": "code",
      "execution_count": 10,
      "id": "978daa44",
      "metadata": {
        "id": "978daa44"
      },
      "outputs": [],
      "source": [
        "def Calc_Errore (image1 , image2):\n",
        "    ''' calculates the difference between image 1 and image 2 => image1 - image 2 ''' \n",
        "    #if (shape1 != image1.shape) != (shape2 != image2.shape):\n",
        "     #   raise Exception(f\"domension do not match image 1 shape = {shape1}  \\n image2 shape = {shape2}\") \n",
        "    return np.mean(image1-image2)"
      ]
    },
    {
      "cell_type": "code",
      "execution_count": 11,
      "id": "d4bbd0fe",
      "metadata": {
        "id": "d4bbd0fe"
      },
      "outputs": [],
      "source": [
        "def print_results(path):\n",
        "    '''for a directory applies 4 predictor and calculates the diffs '''\n",
        "    files=load_images_from_folder(path)\n",
        "    t = PrettyTable(['file_name',\"MED\" ,\"GAP\",\"JPEG_Old_v_1\",\"JPEG_Old_v_6\"])\n",
        "    fucntions=[MED ,GAP ,JPEG_Old_v_1 ,JPEG_Old_v_6 ]\n",
        "    for filename,image in files.items():\n",
        "        diffs=[]\n",
        "        diffs.append(filename)\n",
        "        for func in fucntions:\n",
        "            tmp=func(image)\n",
        "            tmp=Calc_Errore(image,tmp)\n",
        "            diffs.append(tmp)\n",
        "        t.add_row(diffs)\n",
        "\n",
        "    return t "
      ]
    },
    {
      "cell_type": "code",
      "execution_count": 15,
      "id": "fe14ffe2",
      "metadata": {
        "colab": {
          "base_uri": "https://localhost:8080/"
        },
        "id": "fe14ffe2",
        "outputId": "936f94a7-2f42-4203-b6f9-ba56dfeba4a9"
      },
      "outputs": [
        {
          "output_type": "stream",
          "name": "stderr",
          "text": [
            "/usr/local/lib/python3.7/dist-packages/ipykernel_launcher.py:21: RuntimeWarning: overflow encountered in ubyte_scalars\n",
            "/usr/local/lib/python3.7/dist-packages/ipykernel_launcher.py:17: RuntimeWarning: overflow encountered in ubyte_scalars\n",
            "/usr/local/lib/python3.7/dist-packages/ipykernel_launcher.py:18: RuntimeWarning: overflow encountered in ubyte_scalars\n",
            "/usr/local/lib/python3.7/dist-packages/ipykernel_launcher.py:19: RuntimeWarning: overflow encountered in ubyte_scalars\n",
            "/usr/local/lib/python3.7/dist-packages/ipykernel_launcher.py:25: RuntimeWarning: overflow encountered in ubyte_scalars\n",
            "/usr/local/lib/python3.7/dist-packages/ipykernel_launcher.py:9: RuntimeWarning: overflow encountered in ubyte_scalars\n",
            "  if __name__ == '__main__':\n"
          ]
        },
        {
          "output_type": "stream",
          "name": "stdout",
          "text": [
            "+--------------+--------------------+--------------------+-----------------------+---------------------+\n",
            "|  file_name   |        MED         |        GAP         |      JPEG_Old_v_1     |     JPEG_Old_v_6    |\n",
            "+--------------+--------------------+--------------------+-----------------------+---------------------+\n",
            "| I01_01_1.bmp | 0.1955718994140625 | 6.9812266031901045 |   -0.03887939453125   |  -61.53676096598307 |\n",
            "| I01_01_4.bmp | 0.1230010986328125 | 5.062659581502278  | -0.038324991861979164 | -62.592447916666664 |\n",
            "| I01_03_1.bmp | 0.208221435546875  | 6.693362236022949  |   -0.03668212890625   |  -61.04466247558594 |\n",
            "| I01_03_4.bmp | 0.1635284423828125 | 5.430887540181478  | -0.034917195638020836 |  -62.02108256022135 |\n",
            "| I01_07_1.bmp | 0.3329874674479167 | 10.161924362182617 | -0.020350138346354168 |  -36.64653778076172 |\n",
            "| I01_07_4.bmp | 0.8397725423177084 | 24.602691650390625 |  -0.10828145345052083 |  -22.68779754638672 |\n",
            "+--------------+--------------------+--------------------+-----------------------+---------------------+\n"
          ]
        }
      ],
      "source": [
        "diff=print_results(r'/content/drive/MyDrive/Colab Notebooks/distorted images/')\n",
        "print (diff)"
      ]
    },
    {
      "cell_type": "markdown",
      "source": [
        "in jpeg v1 the mean error between two image is low and that means adjacent pixels are similar and its good for jpeg v1 for compression.\n",
        "\n",
        "As can be seen when noises are increased, in noise 1 and 3 errors are reduced and good for compression but in noise 7 with increasing noise, pixels are less similar each other and compression is high error with this med and gap method but because of existing noise adjacent pixel are more similar and it is better to using jpeg method.\n",
        "\n",
        "generally, existing noise causes that prediction with adjacent pixel is harder than usual but when increasing noise, compression is easiest than before because noisy pixels are similar to each other"
      ],
      "metadata": {
        "id": "oYdDrfvl_h1u"
      },
      "id": "oYdDrfvl_h1u"
    }
  ],
  "metadata": {
    "kernelspec": {
      "display_name": "Python 3 (ipykernel)",
      "language": "python",
      "name": "python3"
    },
    "language_info": {
      "codemirror_mode": {
        "name": "ipython",
        "version": 3
      },
      "file_extension": ".py",
      "mimetype": "text/x-python",
      "name": "python",
      "nbconvert_exporter": "python",
      "pygments_lexer": "ipython3",
      "version": "3.8.12"
    },
    "colab": {
      "name": "main.ipynb",
      "provenance": [],
      "collapsed_sections": []
    },
    "accelerator": "GPU"
  },
  "nbformat": 4,
  "nbformat_minor": 5
}